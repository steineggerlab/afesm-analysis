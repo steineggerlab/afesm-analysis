{
 "cells": [
  {
   "cell_type": "markdown",
   "metadata": {},
   "source": [
    "# plain bar chart for the taxonomy prediction result"
   ]
  },
  {
   "cell_type": "code",
   "execution_count": 1,
   "metadata": {},
   "outputs": [],
   "source": [
    "import matplotlib.pyplot as plt\n",
    "import pandas as pd\n",
    "\n",
    "df = pd.read_csv(\"../15_n_genus/afesm30_repseq_foldseek_clu_nonsingleton_allMem_lca_blacklist-count_taxGroup.tsv\", delimiter=\"\\t\", \\\n",
    "                 names=['count', 'taxGroup'], header=None)"
   ]
  },
  {
   "cell_type": "code",
   "execution_count": null,
   "metadata": {},
   "outputs": [
    {
     "data": {
      "text/html": [
       "<div>\n",
       "<style scoped>\n",
       "    .dataframe tbody tr th:only-of-type {\n",
       "        vertical-align: middle;\n",
       "    }\n",
       "\n",
       "    .dataframe tbody tr th {\n",
       "        vertical-align: top;\n",
       "    }\n",
       "\n",
       "    .dataframe thead th {\n",
       "        text-align: right;\n",
       "    }\n",
       "</style>\n",
       "<table border=\"1\" class=\"dataframe\">\n",
       "  <thead>\n",
       "    <tr style=\"text-align: right;\">\n",
       "      <th></th>\n",
       "      <th>count</th>\n",
       "      <th>taxGroup</th>\n",
       "    </tr>\n",
       "  </thead>\n",
       "  <tbody>\n",
       "    <tr>\n",
       "      <th>0</th>\n",
       "      <td>2283970</td>\n",
       "      <td>superkingdom</td>\n",
       "    </tr>\n",
       "    <tr>\n",
       "      <th>1</th>\n",
       "      <td>1198802</td>\n",
       "      <td>root</td>\n",
       "    </tr>\n",
       "    <tr>\n",
       "      <th>2</th>\n",
       "      <td>529253</td>\n",
       "      <td>lower than superkingdom</td>\n",
       "    </tr>\n",
       "    <tr>\n",
       "      <th>3</th>\n",
       "      <td>515945</td>\n",
       "      <td>cellular organism</td>\n",
       "    </tr>\n",
       "    <tr>\n",
       "      <th>4</th>\n",
       "      <td>216786</td>\n",
       "      <td>species and lower than species</td>\n",
       "    </tr>\n",
       "    <tr>\n",
       "      <th>5</th>\n",
       "      <td>199879</td>\n",
       "      <td>not predicted</td>\n",
       "    </tr>\n",
       "    <tr>\n",
       "      <th>6</th>\n",
       "      <td>181564</td>\n",
       "      <td>family and lower than family</td>\n",
       "    </tr>\n",
       "  </tbody>\n",
       "</table>\n",
       "</div>"
      ],
      "text/plain": [
       "     count                        taxGroup\n",
       "0  2283970                    superkingdom\n",
       "1  1198802                            root\n",
       "2   529253         lower than superkingdom\n",
       "3   515945               cellular organism\n",
       "4   216786  species and lower than species\n",
       "5   199879                   not predicted\n",
       "6   181564    family and lower than family"
      ]
     },
     "execution_count": 2,
     "metadata": {},
     "output_type": "execute_result"
    }
   ],
   "source": [
    "df"
   ]
  },
  {
   "cell_type": "code",
   "execution_count": 6,
   "metadata": {},
   "outputs": [
    {
     "data": {
      "text/plain": [
       "'2283970+1198802+529253+515945+216786+199879+181564'"
      ]
     },
     "execution_count": 6,
     "metadata": {},
     "output_type": "execute_result"
    }
   ],
   "source": [
    "\"+\".join(list(map(str, df['count'])))"
   ]
  },
  {
   "cell_type": "code",
   "execution_count": 9,
   "metadata": {},
   "outputs": [
    {
     "data": {
      "text/plain": [
       "1714747"
      ]
     },
     "execution_count": 9,
     "metadata": {},
     "output_type": "execute_result"
    }
   ],
   "source": [
    "1198802+515945"
   ]
  },
  {
   "cell_type": "code",
   "execution_count": 4,
   "metadata": {},
   "outputs": [
    {
     "name": "stdout",
     "output_type": "stream",
     "text": [
      "['species and lower than species', 'family and lower than family', 'lower than superkingdom', 'superkingdom', 'root', 'cellular organism']\n"
     ]
    }
   ],
   "source": [
    "a = \"\"\"species and lower than species\n",
    "family and lower than family\n",
    "lower than superkingdom\n",
    "superkingdom\n",
    "root\n",
    "cellular organism\"\"\".split(\"\\n\")\n",
    "print(a)"
   ]
  },
  {
   "cell_type": "code",
   "execution_count": 5,
   "metadata": {},
   "outputs": [],
   "source": [
    "custom_order = ['not predicted', 'root', 'cellular organism', 'superkingdom', 'lower than superkingdom', 'family and lower than family', 'species and lower than species',   ]\n",
    "df = pd.merge( df, pd.DataFrame({'taxGroup': custom_order}), on='taxGroup', how='right').fillna(0)\n",
    "df['count'] = df['count'].astype(int)\n",
    "\n",
    "# Convert 'taxGroup' column to a categorical type with the specific order\n",
    "df['taxGroup'] = pd.Categorical(df['taxGroup'], categories=custom_order[::-1], ordered=True)\n",
    "\n",
    "# Sort the DataFrame based on the custom order\n",
    "df = df.sort_values('taxGroup')"
   ]
  },
  {
   "cell_type": "code",
   "execution_count": 6,
   "metadata": {},
   "outputs": [],
   "source": [
    "df['count'] = df['count'].div(1000)"
   ]
  },
  {
   "cell_type": "code",
   "execution_count": 7,
   "metadata": {},
   "outputs": [
    {
     "data": {
      "image/png": "[encoded data removed]",
      "text/plain": [
       "<Figure size 400x500 with 1 Axes>"
      ]
     },
     "metadata": {},
     "output_type": "display_data"
    }
   ],
   "source": [
    "\n",
    "ax = df.plot.barh(y='count', x='taxGroup', figsize=(4, 5), color=['#0C3372' for _ in range(6)] + ['gray'], width=0.8)\n",
    "ax.set_yticklabels(['no LCA', 'root', 'cellular organism', 'superkingdom', '< superkingdom', '≦ family', '≦ species',   ][::-1],)\n",
    "\n",
    "plt.xlabel('count (thousands)')\n",
    "plt.savefig('taxpred.svg')\n",
    "# plt.title('Taxonomy of LCAs of non-singleton clusters')"
   ]
  },
  {
   "cell_type": "code",
   "execution_count": null,
   "metadata": {
    "vscode": {
     "languageId": "bat"
    }
   },
   "outputs": [],
   "source": [
    "~/share/afesm6/15_n_genus/tax_lca$ grep -E \"Bacteria|Eukaryota|Archaea|Viruses\" afesm30_repseq_foldseek_clu_nonsingleton_allMem_lca_blacklist_report | head\n",
    "54.5975 2798779 2122871 superkingdom    4000002     Bacteria\n",
    "7.1871  368424  150851  superkingdom    2759        Eukaryota\n",
    "0.0010  51      0       no rank 2683617       Eukaryota incertae sedis\n",
    "0.6375  32681   9589    superkingdom    4137846     Archaea\n",
    "0.2280  11689   659     superkingdom    10239     Viruses\n",
    "0.0000  1       1       species 762905            Hyperthermophilic Archaeal Virus 1"
   ]
  },
  {
   "cell_type": "code",
   "execution_count": 12,
   "metadata": {},
   "outputs": [],
   "source": [
    "b=2798779\n",
    "euk=368424\n",
    "arc=32681\n",
    "vir=11689\n",
    "\n",
    "nums = [b, euk, arc, vir]\n",
    "s = sum(nums)"
   ]
  },
  {
   "cell_type": "code",
   "execution_count": 21,
   "metadata": {},
   "outputs": [
    {
     "name": "stdout",
     "output_type": "stream",
     "text": [
      "87.14667236273316\n",
      "11.47176165698242\n",
      "1.0176010322667428\n",
      "0.3639649480176848\n"
     ]
    }
   ],
   "source": [
    "for ele in nums:\n",
    "  print(ele/s*100)"
   ]
  },
  {
   "cell_type": "code",
   "execution_count": 20,
   "metadata": {},
   "outputs": [
    {
     "data": {
      "image/png": "[encoded data removed]",
      "text/plain": [
       "<Figure size 200x500 with 1 Axes>"
      ]
     },
     "metadata": {},
     "output_type": "display_data"
    }
   ],
   "source": [
    "import matplotlib.pyplot as plt\n",
    "\n",
    "plt.figure(figsize=(2, 5))\n",
    "plt.bar(['Bacteria', 'Eukaryota', 'Archaea', 'Viruses'], [b/s*100, euk/s*100, arc/s*100, vir/s*100], color='#0C3372')\n",
    "plt.ylabel('percentage')\n",
    "plt.xlabel('superkingdom')\n",
    "plt.savefig('output/superkingdom_specific.svg')"
   ]
  }
 ],
 "metadata": {
  "kernelspec": {
   "display_name": "tutorial",
   "language": "python",
   "name": "python3"
  },
  "language_info": {
   "codemirror_mode": {
    "name": "ipython",
    "version": 3
   },
   "file_extension": ".py",
   "mimetype": "text/x-python",
   "name": "python",
   "nbconvert_exporter": "python",
   "pygments_lexer": "ipython3",
   "version": "3.10.6"
  }
 },
 "nbformat": 4,
 "nbformat_minor": 2
}
