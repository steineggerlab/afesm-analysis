{
 "cells": [
  {
   "cell_type": "code",
   "execution_count": 23,
   "metadata": {},
   "outputs": [
    {
     "name": "stderr",
     "output_type": "stream",
     "text": [
      "/tmp/ipykernel_1189696/525704035.py:34: UserWarning: No artists with labels found to put in legend.  Note that artists whose label start with an underscore are ignored when legend() is called with no argument.\n",
      "  ax.legend(loc='upper left', fontsize=14, frameon=False)\n"
     ]
    },
    {
     "data": {
      "image/png": "[encoded data removed]",
      "text/plain": [
       "<Figure size 180x500 with 1 Axes>"
      ]
     },
     "metadata": {},
     "output_type": "display_data"
    },
    {
     "name": "stdout",
     "output_type": "stream",
     "text": [
      "Chart saved as SVG: panel_a.svg\n"
     ]
    }
   ],
   "source": [
    "# main figure a \n",
    "\n",
    "import matplotlib.pyplot as plt\n",
    "\n",
    "# Data for the chart\n",
    "datasets = ['AFDB\\nAll Mem.', \"ESM\\nRep.\"]\n",
    "not_novel = [214, 3.54]  # in Millions\n",
    "cat_2_or_more = [51.7, 0.394]  # in Millions\n",
    "cat_1_or_less = [not_novel[0] - cat_2_or_more[0], not_novel[1] - cat_2_or_more[1]]  # Remaining values\n",
    "\n",
    "# Data as percentages relative to their not_novel\n",
    "cat_2_or_more_pct = [value / total for value, total in zip(cat_2_or_more, not_novel)]\n",
    "cat_1_or_less_pct = [value / total for value, total in zip(cat_1_or_less, not_novel)]\n",
    "\n",
    "# Plotting the updated stacked bar chart with requested changes\n",
    "fig, ax = plt.subplots(figsize=(1.8, 5))\n",
    "\n",
    "# Creating the bars with thinner width and closer spacing\n",
    "bar_width = 0.35\n",
    "x_pos = [0, 0.4]  # Closer spacing between bars\n",
    "ax.bar(x_pos, cat_1_or_less_pct, bar_width, color='lightgray', alpha=0.8)\n",
    "ax.bar(x_pos, cat_2_or_more_pct, bar_width, bottom=cat_1_or_less_pct, color='gray', alpha=0.8)\n",
    "\n",
    "# Adding raw number annotations with adjusted label positions\n",
    "for i, (value_raw, bottom_raw, bottom_pct) in enumerate(zip(cat_2_or_more, cat_1_or_less, cat_1_or_less_pct)):\n",
    "    # For ≥ 2 CATH (top of the bar)\n",
    "    ax.text(x_pos[i], bottom_pct + cat_2_or_more_pct[i] / 2, f'{value_raw:.1f}M',\n",
    "            ha='center', va='center', fontsize=14, color='black')\n",
    "    # For ≤ 1 CATH (bottom of the bar)\n",
    "    ax.text(x_pos[i], bottom_pct / 2, f'{bottom_raw:.1f}M',\n",
    "            ha='center', va='center', fontsize=14, color='black')\n",
    "\n",
    "# Customize chart\n",
    "ax.set_xticks(x_pos)\n",
    "ax.set_xticklabels(datasets, fontsize=14)\n",
    "ax.legend(loc='upper left', fontsize=14, frameon=False)\n",
    "\n",
    "# Remove y-axis label and grid\n",
    "ax.set_yticks([])\n",
    "ax.set_yticklabels([])\n",
    "ax.grid(False)\n",
    "ax.spines['top'].set_visible(False)\n",
    "ax.spines['right'].set_visible(False)\n",
    "ax.spines['left'].set_visible(False)\n",
    "ax.spines['bottom'].set_visible(False)\n",
    "\n",
    "# Save the chart as an SVG file\n",
    "output_path = \"panel_a.svg\"\n",
    "plt.tight_layout()\n",
    "plt.savefig(output_path, format='svg')\n",
    "\n",
    "# Display the chart\n",
    "plt.show()\n",
    "\n",
    "print(f\"Chart saved as SVG: {output_path}\")\n"
   ]
  },
  {
   "cell_type": "code",
   "execution_count": 22,
   "metadata": {},
   "outputs": [
    {
     "data": {
      "image/png": "[encoded data removed]",
      "text/plain": [
       "<Figure size 180x500 with 1 Axes>"
      ]
     },
     "metadata": {},
     "output_type": "display_data"
    },
    {
     "name": "stdout",
     "output_type": "stream",
     "text": [
      "Duplicated plot saved as SVG: panel_b.svg\n"
     ]
    }
   ],
   "source": [
    "# main figure b \n",
    "\n",
    "# Reimporting required libraries and redefining data due to state reset\n",
    "import matplotlib.pyplot as plt\n",
    "\n",
    "# Data for the duplicated plot\n",
    "datasets = ['ESM\\nRep.', 'ESM\\nMem.']\n",
    "not_novel = [381, 30030]  # Bottom (gray section) in K\n",
    "top_values = [12, 1970]  # Top (blue section) in K\n",
    "\n",
    "# Normalize values to percentages for the stacked bar chart\n",
    "total_heights = [not_novel[i] + top_values[i] for i in range(len(not_novel))]\n",
    "bottom_pct = [not_novel[i] / total_heights[i] for i in range(len(not_novel))]\n",
    "top_pct = [top_values[i] / total_heights[i] for i in range(len(not_novel))]\n",
    "\n",
    "# Plotting the duplicated plot\n",
    "fig, ax = plt.subplots(figsize=(1.8, 5))\n",
    "\n",
    "# Creating the bars\n",
    "bar_width = 0.35\n",
    "x_pos = [0, 0.4]  # Closer spacing between bars\n",
    "ax.bar(x_pos, bottom_pct, bar_width, color='gray', alpha=0.8)\n",
    "ax.bar(x_pos, top_pct, bar_width, bottom=bottom_pct, color='skyblue', alpha=0.8)\n",
    "\n",
    "# Adding annotations for the top section (light blue)\n",
    "for i, value in enumerate(top_values):\n",
    "    # ax.text(x_pos[i], bottom_pct[i] + top_pct[i] + 0.01, f'{value}K' if value < 1000 else f'{value / 1000:.2f}M',\n",
    "    ax.text(x_pos[i], (top_pct[i] + bottom_pct[i]) - 0.057 , f'{value}K' if value < 1000 else f'{value / 1000:.2f}M',\n",
    "            ha='center', va='bottom', fontsize=14, color='black')\n",
    "\n",
    "# Adding annotations for the bottom section (gray)\n",
    "for i, value in enumerate(not_novel):\n",
    "    ax.text(x_pos[i], bottom_pct[i] / 2, f'{value}K' if value < 1000 else f'{value / 1000:.0f}M',\n",
    "            ha='center', va='center', fontsize=14, color='black')\n",
    "\n",
    "# Customizing x-axis labels\n",
    "ax.set_xticks(x_pos)\n",
    "ax.set_xticklabels(datasets, fontsize=14)  #  fontweight='bold'\n",
    "\n",
    "# Removing y-axis and grid\n",
    "ax.set_yticks([])\n",
    "ax.set_yticklabels([])\n",
    "ax.grid(False)\n",
    "ax.spines['top'].set_visible(False)\n",
    "ax.spines['right'].set_visible(False)\n",
    "ax.spines['left'].set_visible(False)\n",
    "ax.spines['bottom'].set_visible(False)\n",
    "\n",
    "# Save the duplicated plot as an SVG file\n",
    "output_path = \"panel_b.svg\"\n",
    "plt.tight_layout()\n",
    "plt.savefig(output_path, format='svg')\n",
    "\n",
    "# Display the plot\n",
    "plt.show()\n",
    "\n",
    "print(f\"Duplicated plot saved as SVG: {output_path}\")\n"
   ]
  }
 ],
 "metadata": {
  "kernelspec": {
   "display_name": "usr",
   "language": "python",
   "name": "python3"
  },
  "language_info": {
   "codemirror_mode": {
    "name": "ipython",
    "version": 3
   },
   "file_extension": ".py",
   "mimetype": "text/x-python",
   "name": "python",
   "nbconvert_exporter": "python",
   "pygments_lexer": "ipython3",
   "version": "3.10.16"
  }
 },
 "nbformat": 4,
 "nbformat_minor": 2
}
