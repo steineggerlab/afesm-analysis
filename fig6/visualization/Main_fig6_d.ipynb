{
 "cells": [
  {
   "cell_type": "code",
   "execution_count": null,
   "metadata": {},
   "outputs": [],
   "source": [
    "# main figure d\n",
    "\n",
    "! head ../data/final_figure_d/tmp/sorted-components-novelMDP-GH-CATHpair_sumClu_sumNmem_sumNallMem_CATHname.tsv > ../data/final_figure_d/tmp/sorted-components-novelMDP-GH-CATHpair_sumClu_sumNmem_sumNallMem_CATHname-Top10.tsv\n",
    "# ../data/final_figure_d/tmp/sorted-components-novelMDP-GH-CATHpair_sumClu_sumNmem_sumNallMem_CATHname-Top10.tsv\n"
   ]
  },
  {
   "cell_type": "code",
   "execution_count": null,
   "metadata": {},
   "outputs": [],
   "source": [
    "# main figure d\n",
    "\n",
    "import pandas as pd\n",
    "import matplotlib.pyplot as plt\n",
    "\n",
    "# file path\n",
    "file_path = '../data/final_figure_d/tmp/sorted-components-novelMDP-GH-CATHpair_sumClu_sumNmem_sumNallMem_CATHname-Top10.tsv'\n",
    "\n",
    "# Read the TSV file into a DataFrame\n",
    "data = pd.read_csv(file_path, sep='\\t', header=None, names=['ID', 'Abundance', 'Label'])\n",
    "\n",
    "# Sort data based on 'Abundance' in descending order\n",
    "data = data.sort_values(by='Abundance', ascending=False)\n",
    "\n",
    "# Create a figure with larger window size and plot\n",
    "fig, ax = plt.subplots(figsize=(1.5, 4))  # Adjust the height for better visualization\n",
    "\n",
    "# Plot horizontal bars for 'Abundance' using 'Label' (third field) as the y-axis caption\n",
    "bars = ax.barh(data['Label'], data['Abundance'], color='teal', alpha=0.7)\n",
    "\n",
    "# Set axis labels with bold fonts\n",
    "ax.set_xlabel(\"Count\", fontsize=16)  # Bold and larger font size for x-axis label\n",
    "\n",
    "# Invert the y-axis to have the largest values on top\n",
    "ax.invert_yaxis()\n",
    "\n",
    "# Remove y-axis labels (captions)\n",
    "ax.set_yticks([])\n",
    "\n",
    "# Set x-axis ticks manually (1, 2, 3, etc.)\n",
    "ax.set_xticks([1, 2, 3, 4, 5, 6, 7])\n",
    "\n",
    "plt.tight_layout()\n",
    "plt.savefig('single_COMBI_bar_plot_output.svg', format='svg', bbox_inches='tight')\n",
    "\n",
    "# Show the plot\n",
    "plt.show()"
   ]
  }
 ],
 "metadata": {
  "kernelspec": {
   "display_name": "usr",
   "language": "python",
   "name": "python3"
  },
  "language_info": {
   "codemirror_mode": {
    "name": "ipython",
    "version": 3
   },
   "file_extension": ".py",
   "mimetype": "text/x-python",
   "name": "python",
   "nbconvert_exporter": "python",
   "pygments_lexer": "ipython3",
   "version": "3.10.9"
  }
 },
 "nbformat": 4,
 "nbformat_minor": 2
}
